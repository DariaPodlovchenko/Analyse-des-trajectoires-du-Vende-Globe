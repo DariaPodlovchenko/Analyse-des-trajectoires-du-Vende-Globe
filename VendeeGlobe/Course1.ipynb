{
 "cells": [
  {
   "cell_type": "code",
   "execution_count": 99,
   "id": "4374fe7e-8e18-4c18-896d-c35b847f714e",
   "metadata": {},
   "outputs": [],
   "source": [
    "import pandas as pd\n",
    "import folium"
   ]
  },
  {
   "cell_type": "code",
   "execution_count": 100,
   "id": "72ac9125-1929-4b51-83b3-f06d795ea458",
   "metadata": {},
   "outputs": [],
   "source": [
    "# Fonction pour convertir les coordonnées en format décimal\n",
    "def convertir_en_decimal(coord):\n",
    "    try:\n",
    "        coord = coord.replace(\"'\", \"\").strip()  # Supprime les symboles '\n",
    "        degres, minutes = coord[:-1].split('°')  # Sépare les degrés et les minutes\n",
    "        direction = coord[-1]  # Le dernier caractère \n",
    "        decimal = float(degres) + float(minutes) / 60\n",
    "        if direction in ['S', 'W']:\n",
    "            decimal = -decimal\n",
    "        return decimal\n",
    "    except Exception as e:\n",
    "        print(f\"Erreur\")\n",
    "        return None"
   ]
  },
  {
   "cell_type": "code",
   "execution_count": 101,
   "id": "c557a0d3-511b-4d1e-bb45-d671745f9922",
   "metadata": {},
   "outputs": [],
   "source": [
    "fichiers = [\n",
    "    'vendeeglobe_leaderboard_20241110_start.csv',\n",
    "    'vendeeglobe_leaderboard_20241112_03.csv',\n",
    "    'vendeeglobe_leaderboard_20241112_23.csv',\n",
    "    'vendeeglobe_leaderboard_20241113_23.csv',\n",
    "    'vendeeglobe_leaderboard_20241114_23.csv',\n",
    "    'vendeeglobe_leaderboard_20241115_03.csv',\n",
    "    'vendeeglobe_leaderboard_20241115_23.csv',\n",
    "    'vendeeglobe_leaderboard_20241120_03.csv',\n",
    "    'vendeeglobe_leaderboard_20241120_23.csv',\n",
    "    'vendeeglobe_leaderboard_20241125_03.csv',\n",
    "    'vendeeglobe_leaderboard_20241125_23.csv'\n",
    "]"
   ]
  },
  {
   "cell_type": "code",
   "execution_count": 102,
   "id": "dd1bbc10-2390-43e4-a489-7e0237163a86",
   "metadata": {},
   "outputs": [],
   "source": [
    "#carte = folium.Map(location=[46.0, -2.0], zoom_start=5)"
   ]
  },
  {
   "cell_type": "code",
   "execution_count": 103,
   "id": "a89e8ea3-aadc-485d-9999-67dfc9437a4d",
   "metadata": {},
   "outputs": [],
   "source": [
    "mapbox_api_key = \"pk.eyJ1IjoiZGFyaWFwb2Rsb3ZjaGVua28iLCJhIjoiY203bHMxZ3NkMGYyMTJrcnpmdGY0d3czbiJ9.CW2u-txvilzgLOPAIMFP7Q\"\n",
    "\n",
    "mapbox_tiles = f\"https://api.mapbox.com/styles/v1/dariapodlovchenko/cm5noww75000f01s3gdh894au/tiles/256/{{z}}/{{x}}/{{y}}@2x?access_token={mapbox_api_key}\"\n",
    "\n",
    "carte = folium.Map(\n",
    "    location=[46.0, -2.0],  # Координаты центра\n",
    "    zoom_start=5,\n",
    "    tiles=mapbox_tiles,\n",
    "    attr=\"Mapbox\"\n",
    ")"
   ]
  },
  {
   "cell_type": "code",
   "execution_count": 104,
   "id": "807aa777-b9f8-4cac-a697-b803eb9bc903",
   "metadata": {},
   "outputs": [],
   "source": [
    "toutes_donnees = []"
   ]
  },
  {
   "cell_type": "code",
   "execution_count": 105,
   "id": "ffe45f8d-36de-4ed3-873e-083724894b60",
   "metadata": {},
   "outputs": [],
   "source": [
    "for chemin_fichier in fichiers:\n",
    "    # Extraction de la date à partir du nom du fichier\n",
    "    date = chemin_fichier.split('_')[2]  # Par exemple, '20241110'\n",
    "    date = pd.to_datetime(date, format='%Y%m%d').strftime('%Y-%m-%d')  # Conversion au format 'YYYY-MM-DD'\n",
    "\n",
    "    # Détermination de l'heure à partir du nom du fichier\n",
    "    if '03' in chemin_fichier:\n",
    "        heure = '03:00'\n",
    "    elif '23' in chemin_fichier:\n",
    "        heure = '23:00'\n",
    "    else:\n",
    "        heure = '00:00'  \n",
    "\n",
    "    # Chargement du fichier\n",
    "    df = pd.read_csv(chemin_fichier, sep=';', encoding='latin1', header=0)\n",
    "    df.columns = df.columns.str.strip()  # Suppression des espaces dans les noms de colonnes\n",
    "    df.rename(columns={'Latitude Latitude': 'Latitude', 'Longitude Longitude': 'Longitude'}, inplace=True)\n",
    "\n",
    "    df = df.dropna(subset=['Latitude', 'Longitude'])  # Suppression des lignes avec des valeurs manquantes\n",
    "    df['Latitude'] = df['Latitude'].astype(str).apply(convertir_en_decimal)  # Conversion de la latitude\n",
    "    df['Longitude'] = df['Longitude'].astype(str).apply(convertir_en_decimal)  # Conversion de la longitude\n",
    "\n",
    "    # Création de la colonne pour l'horodatage complet\n",
    "    df['Date'] = date\n",
    "    df['Heure'] = heure\n",
    "    df['Horodatage'] = pd.to_datetime(df['Date'] + ' ' + df['Heure'])  # Fusion date et heure\n",
    "\n",
    "    toutes_donnees.append(df)\n",
    "\n",
    "# Fusion de toutes les données\n",
    "df_complet = pd.concat(toutes_donnees)\n",
    "\n",
    "# Tri des données par bateau et par horodatage\n",
    "df_complet = df_complet.sort_values(by=['Skipper / Bateau', 'Horodatage'])\n",
    "\n",
    "# Liste des bateaux \n",
    "tous_bateaux = df_complet['Skipper / Bateau'].unique()\n",
    "\n",
    "# Regroupement des bateaux par groupes de 5\n",
    "groupes = [tous_bateaux[i:i + 5] for i in range(0, len(tous_bateaux), 5)]"
   ]
  },
  {
   "cell_type": "code",
   "execution_count": 106,
   "id": "500beb2d-ee71-4d51-9b92-ca2b578630aa",
   "metadata": {},
   "outputs": [],
   "source": [
    "# Création des couches\n",
    "for idx, groupe in enumerate(groupes, start=1):\n",
    "    couche_groupe = folium.FeatureGroup(name=f'Groupe {idx}', show=(idx == 1))  # Affiché par défaut\n",
    "    \n",
    "    # Traitement des bateaux dans le groupe\n",
    "    for bateau in groupe:\n",
    "        donnees_groupe = df_complet[df_complet['Skipper / Bateau'] == bateau]\n",
    "\n",
    "        # Trajet\n",
    "        coordonnees = donnees_groupe[['Latitude', 'Longitude']].values.tolist()\n",
    "\n",
    "        # Ligne représentant le trajet\n",
    "        folium.PolyLine(\n",
    "            locations=coordonnees,\n",
    "            color='grey', \n",
    "            weight=1.5,\n",
    "            opacity=0.7,\n",
    "            dash_array=[5, 5],\n",
    "            popup=f\"Trajet du bateau : {bateau}\"\n",
    "        ).add_to(couche_groupe)\n",
    "\n",
    "        # Points du trajet\n",
    "        for _, ligne in donnees_groupe.iterrows():\n",
    "            folium.CircleMarker(\n",
    "                location=[ligne['Latitude'], ligne['Longitude']],\n",
    "                radius=3,\n",
    "                color='red' if ligne['Heure'] == '00:00' else 'green' if ligne['Heure'] == '03:00' else 'blue',\n",
    "                fill=True,\n",
    "                fill_opacity=1,\n",
    "                popup=f\"Bateau : {bateau}<br>Date : {ligne['Date']}<br>Heure : {ligne['Heure']}\"\n",
    "            ).add_to(couche_groupe)\n",
    "\n",
    "    couche_groupe.add_to(carte)"
   ]
  },
  {
   "cell_type": "code",
   "execution_count": 107,
   "id": "613d6e3a-9205-463e-b19d-be03836827b7",
   "metadata": {},
   "outputs": [],
   "source": [
    "folium.LayerControl().add_to(carte)\n",
    "carte.save('vendeeglobe.html')"
   ]
  },
  {
   "cell_type": "code",
   "execution_count": null,
   "id": "c98a3ee6-4bbc-46fe-af37-a6df200eb38b",
   "metadata": {},
   "outputs": [],
   "source": []
  },
  {
   "cell_type": "code",
   "execution_count": null,
   "id": "13826f81-10ea-4d3b-a860-e687e31a559d",
   "metadata": {},
   "outputs": [],
   "source": []
  }
 ],
 "metadata": {
  "kernelspec": {
   "display_name": "project1*",
   "language": "python",
   "name": "project1"
  },
  "language_info": {
   "codemirror_mode": {
    "name": "ipython",
    "version": 3
   },
   "file_extension": ".py",
   "mimetype": "text/x-python",
   "name": "python",
   "nbconvert_exporter": "python",
   "pygments_lexer": "ipython3",
   "version": "3.8.19"
  }
 },
 "nbformat": 4,
 "nbformat_minor": 5
}
