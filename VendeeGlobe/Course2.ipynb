{
 "cells": [
  {
   "cell_type": "code",
   "execution_count": 1,
   "id": "320aeece-dc5f-409c-94a2-f88bf1650166",
   "metadata": {},
   "outputs": [],
   "source": [
    "# Le code commence par convertir les coordonnées au format décimal pour faciliter les calculs géographiques.\n",
    "# Ensuite, les données de plusieurs fichiers sont chargées, les dates et heures sont extraites des noms de fichiers,\n",
    "# et les itinéraires des bateaux sont organisés dans un ordre chronologique.\n",
    "# Toutes les données sont combinées dans un tableau unique et triées par bateau et par heure.\n",
    "# Une zone dangereuse autour des îles Canaries est définie sous forme de polygone,\n",
    "# permettant de vérifier si des points ou des itinéraires de bateaux entrent ou traversent cette zone.\n",
    "# Enfin, les bateaux dans la zone et les itinéraires traversant la zone sont affichés sur la carte."
   ]
  },
  {
   "cell_type": "code",
   "execution_count": 2,
   "id": "f41b5540-9cde-4640-a79d-c404df03fec3",
   "metadata": {},
   "outputs": [],
   "source": [
    "import pandas as pd\n",
    "import folium\n",
    "from shapely.geometry import Point, LineString, Polygon"
   ]
  },
  {
   "cell_type": "code",
   "execution_count": 3,
   "id": "0ab15b8e-c795-4298-ba28-9e0cb13ff807",
   "metadata": {},
   "outputs": [],
   "source": [
    "def convertir_en_decimal(coord):\n",
    "    try:\n",
    "        coord = coord.replace(\"'\", \"\").strip()  \n",
    "        degres, minutes = coord[:-1].split('°')  \n",
    "        direction = coord[-1]  \n",
    "        decimal = float(degres) + float(minutes) / 60\n",
    "        if direction in ['S', 'W']:\n",
    "            decimal = -decimal\n",
    "        return decimal\n",
    "    except Exception as e:\n",
    "        print(f\"Erreur\")\n",
    "        return None"
   ]
  },
  {
   "cell_type": "code",
   "execution_count": 4,
   "id": "b74f2341-3874-42fe-ae45-2942fffd4cf6",
   "metadata": {},
   "outputs": [],
   "source": [
    "fichiers = [\n",
    "    'vendeeglobe_leaderboard_20241110_start.csv',\n",
    "    'vendeeglobe_leaderboard_20241112_03.csv',\n",
    "    'vendeeglobe_leaderboard_20241112_23.csv',\n",
    "    'vendeeglobe_leaderboard_20241113_23.csv',\n",
    "    'vendeeglobe_leaderboard_20241114_23.csv',\n",
    "    'vendeeglobe_leaderboard_20241115_03.csv',\n",
    "    'vendeeglobe_leaderboard_20241115_23.csv',\n",
    "    'vendeeglobe_leaderboard_20241120_03.csv',\n",
    "    'vendeeglobe_leaderboard_20241120_23.csv',\n",
    "    'vendeeglobe_leaderboard_20241125_03.csv',\n",
    "    'vendeeglobe_leaderboard_20241125_23.csv'\n",
    "]"
   ]
  },
  {
   "cell_type": "code",
   "execution_count": 5,
   "id": "bf15b0b8-8f5e-4f19-bcda-0ac25ac4f588",
   "metadata": {},
   "outputs": [],
   "source": [
    "carte = folium.Map(location=[28.0, -15.0], zoom_start=6)"
   ]
  },
  {
   "cell_type": "code",
   "execution_count": 6,
   "id": "0e3f33c4-c440-4d56-84f2-9e373063a824",
   "metadata": {},
   "outputs": [],
   "source": [
    "toutes_donnees = []"
   ]
  },
  {
   "cell_type": "code",
   "execution_count": 7,
   "id": "8053f560-f1db-4181-bbc1-12b87caa550c",
   "metadata": {},
   "outputs": [],
   "source": [
    "for fichier in fichiers:\n",
    "    # Extraire la date du nom du fichier\n",
    "    date = fichier.split('_')[2]  \n",
    "    date = pd.to_datetime(date, format='%Y%m%d').strftime('%Y-%m-%d')  # format 'YYYY-MM-DD'\n",
    "\n",
    "    # Déterminer l'heure à partir du nom du fichier\n",
    "    if '03' in fichier:\n",
    "        heure = '03:00'\n",
    "    elif '23' in fichier:\n",
    "        heure = '23:00'\n",
    "    else:\n",
    "        heure = '00:00'\n",
    "\n",
    "    # Charger le fichier\n",
    "    df = pd.read_csv(fichier, sep=';', encoding='latin1', header=0)\n",
    "    df.columns = df.columns.str.strip()  # Nettoyer les noms des colonnes\n",
    "    df.rename(columns={'Latitude Latitude': 'Latitude', 'Longitude Longitude': 'Longitude'}, inplace=True)\n",
    "\n",
    "    df = df.dropna(subset=['Latitude', 'Longitude'])  # Supprimer les lignes avec des valeurs manquantes\n",
    "    df['Latitude'] = df['Latitude'].astype(str).apply(convertir_en_decimal)  # Convertir la latitude\n",
    "    df['Longitude'] = df['Longitude'].astype(str).apply(convertir_en_decimal)  # Convertir la longitude\n",
    "\n",
    "    # Une colonne pour la date et l'heure complètes\n",
    "    df['Date'] = date\n",
    "    df['Heure'] = heure\n",
    "    df['DateHeure'] = pd.to_datetime(df['Date'] + ' ' + df['Heure'])  # Combiner date et heure\n",
    "\n",
    "    toutes_donnees.append(df)\n",
    "\n",
    "# Combiner toutes les données\n",
    "df_complet = pd.concat(toutes_donnees)"
   ]
  },
  {
   "cell_type": "code",
   "execution_count": 8,
   "id": "ea65eae8-bc66-4d16-991b-7d058674592e",
   "metadata": {},
   "outputs": [],
   "source": [
    "# Trier les données par bateau et par date/heure\n",
    "df_complet = df_complet.sort_values(by=['Skipper / Bateau', 'DateHeure'])"
   ]
  },
  {
   "cell_type": "code",
   "execution_count": 9,
   "id": "7308a78f-1c34-493f-a923-da16faef0800",
   "metadata": {},
   "outputs": [],
   "source": [
    "# îles Canaries\n",
    "coords_canaries = [\n",
    "    [-18.2, 27.5],  # Coin inférieur gauche\n",
    "    [-13.5, 27.5],  # Coin inférieur droit\n",
    "    [-13.5, 29.5],  # Coin supérieur droit\n",
    "    [-18.2, 29.5],  # Coin supérieur gauche\n",
    "    [-18.2, 27.5]   # Retour au point initial\n",
    "]\n",
    "zone_canaries = Polygon(coords_canaries)"
   ]
  },
  {
   "cell_type": "code",
   "execution_count": 10,
   "id": "c45ec338-1c9d-4c33-b27a-bc9f844d55e9",
   "metadata": {},
   "outputs": [],
   "source": [
    "folium.Polygon(\n",
    "    locations=[[lat, lon] for lon, lat in coords_canaries],\n",
    "    color='blue',\n",
    "    fill=True,\n",
    "    fill_opacity=0.2,\n",
    "    popup=\"Zone dangereuse - Îles Canaries\"\n",
    ").add_to(carte)\n",
    "\n",
    "# Identifier les bateaux dans la zone et les routes qui traversent la zone\n",
    "bateaux_zone = set()\n",
    "routes_zone = set()"
   ]
  },
  {
   "cell_type": "code",
   "execution_count": 11,
   "id": "4cd82df7-5d45-400f-a634-2739899ef0fb",
   "metadata": {},
   "outputs": [],
   "source": [
    "# Analyser les bateaux\n",
    "for bateau in df_complet['Skipper / Bateau'].unique():\n",
    "    donnees_bateau = df_complet[df_complet['Skipper / Bateau'] == bateau]\n",
    "\n",
    "    # Vérifier les points de la route\n",
    "    for _, ligne in donnees_bateau.iterrows():\n",
    "        point = Point(ligne['Longitude'], ligne['Latitude'])\n",
    "        if point.within(zone_canaries):\n",
    "            bateaux_zone.add(bateau)\n",
    "\n",
    "    # Vérifier les routes\n",
    "    if len(donnees_bateau) >= 2:\n",
    "        ligne_route = LineString(donnees_bateau[['Longitude', 'Latitude']].values)\n",
    "        if ligne_route.intersects(zone_canaries):\n",
    "            routes_zone.add(bateau)"
   ]
  },
  {
   "cell_type": "code",
   "execution_count": 12,
   "id": "b4ec5b74-c394-42b1-b11f-ec6739ffda25",
   "metadata": {},
   "outputs": [
    {
     "data": {
      "text/plain": [
       "<folium.map.LayerControl at 0x7f41db0ddeb0>"
      ]
     },
     "execution_count": 12,
     "metadata": {},
     "output_type": "execute_result"
    }
   ],
   "source": [
    "# Ajouter les bateaux dans la zone sur la carte\n",
    "for bateau in bateaux_zone:\n",
    "    folium.Marker(\n",
    "        location=[df_complet[df_complet['Skipper / Bateau'] == bateau]['Latitude'].iloc[0],\n",
    "                 df_complet[df_complet['Skipper / Bateau'] == bateau]['Longitude'].iloc[0]],\n",
    "        popup=f\"Bateau {bateau} dans la zone\",\n",
    "        icon=folium.Icon(color='green')\n",
    "    ).add_to(carte)\n",
    "\n",
    "# Ajouter les routes traversant la zone\n",
    "for bateau in routes_zone:\n",
    "    donnees_bateau = df_complet[df_complet['Skipper / Bateau'] == bateau]\n",
    "    coordonnees = donnees_bateau[['Latitude', 'Longitude']].values.tolist()\n",
    "    folium.PolyLine(\n",
    "        locations=coordonnees,\n",
    "        color='red',\n",
    "        weight=2.5,\n",
    "        opacity=0.8,\n",
    "        popup=f\"Route du bateau {bateau} traversant la zone\"\n",
    "    ).add_to(carte)\n",
    "\n",
    "folium.LayerControl().add_to(carte)"
   ]
  },
  {
   "cell_type": "code",
   "execution_count": 15,
   "id": "34c9689f-d671-4359-8be7-35ecc7fb94ad",
   "metadata": {},
   "outputs": [],
   "source": [
    "routes_dans_zone = []  # Создаём пустой список\n",
    "\n",
    "# Добавляем точки только для маршрутов, пересекающих выбранную зону\n",
    "for bateau in routes_dans_zone:\n",
    "    # Фильтруем данные для текущей лодки\n",
    "    donnees_bateau = df_complet[df_complet['Skipper / Bateau'] == bateau]\n",
    "\n",
    "    # Проходим по каждой точке маршрута лодки\n",
    "    for _, ligne in donnees_bateau.iterrows():\n",
    "        folium.CircleMarker(\n",
    "            location=[ligne['Latitude'], ligne['Longitude']],\n",
    "            radius=4,\n",
    "            color='orange',  # Цвет точек маршрута\n",
    "            fill=True,\n",
    "            fill_opacity=0.7,\n",
    "            popup=f\"Bateau: {bateau}<br>Date: {ligne['Date']}<br>Heure: {ligne['Heure']}\"\n",
    "        ).add_to(carte)\n"
   ]
  },
  {
   "cell_type": "code",
   "execution_count": 16,
   "id": "9ae7dd22-4105-4827-9673-7a4ae327e5e2",
   "metadata": {},
   "outputs": [],
   "source": [
    "carte.save('analyse_zone_canaries.html')"
   ]
  },
  {
   "cell_type": "code",
   "execution_count": null,
   "id": "110ca657-04f2-4816-9c6c-94654391177f",
   "metadata": {},
   "outputs": [],
   "source": []
  },
  {
   "cell_type": "code",
   "execution_count": null,
   "id": "256b60aa-b14d-40f2-aa13-039b05129f6c",
   "metadata": {},
   "outputs": [],
   "source": []
  }
 ],
 "metadata": {
  "kernelspec": {
   "display_name": "project1*",
   "language": "python",
   "name": "project1"
  },
  "language_info": {
   "codemirror_mode": {
    "name": "ipython",
    "version": 3
   },
   "file_extension": ".py",
   "mimetype": "text/x-python",
   "name": "python",
   "nbconvert_exporter": "python",
   "pygments_lexer": "ipython3",
   "version": "3.8.19"
  }
 },
 "nbformat": 4,
 "nbformat_minor": 5
}
